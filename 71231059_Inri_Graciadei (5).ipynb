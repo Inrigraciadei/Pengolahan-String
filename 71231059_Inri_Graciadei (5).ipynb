{
  "nbformat": 4,
  "nbformat_minor": 0,
  "metadata": {
    "colab": {
      "provenance": []
    },
    "kernelspec": {
      "name": "python3",
      "display_name": "Python 3"
    },
    "language_info": {
      "name": "python"
    }
  },
  "cells": [
    {
      "cell_type": "code",
      "execution_count": null,
      "metadata": {
        "id": "WvtpXFAi6Rf_"
      },
      "outputs": [],
      "source": []
    },
    {
      "cell_type": "markdown",
      "source": [
        "Soal 1"
      ],
      "metadata": {
        "id": "5pZWdrMK6Sic"
      }
    },
    {
      "cell_type": "code",
      "source": [
        "def kata_anagram():\n",
        "    kata_pertama = input(\"Masukkan kata pertama yang diinginkan: \")\n",
        "    kata_kedua = input(\"Masukkan kata kedua yang diinginkan: \")\n",
        "    kata_1 = kata_pertama.lower()\n",
        "    kata_2 = kata_kedua.lower()\n",
        "\n",
        "    kata_satu = sorted(kata_1)\n",
        "    kata_dua = sorted(kata_2)\n",
        "\n",
        "    if kata_satu == kata_dua:\n",
        "        print(\"Kata tersebut merupakan anagram\")\n",
        "    else:\n",
        "        print(\"Kata tersebut bukan anagram\")\n",
        "\n",
        "kata_anagram()"
      ],
      "metadata": {
        "colab": {
          "base_uri": "https://localhost:8080/"
        },
        "id": "drhCrOCd6UJY",
        "outputId": "27b7bc3b-b684-45fe-ef81-88099fdcdefa"
      },
      "execution_count": 1,
      "outputs": [
        {
          "output_type": "stream",
          "name": "stdout",
          "text": [
            "Masukkan kata pertama yang diinginkan: Aku\n",
            "Masukkan kata kedua yang diinginkan: Kau\n",
            "Kata tersebut merupakan anagram\n"
          ]
        }
      ]
    },
    {
      "cell_type": "markdown",
      "source": [
        "Soal 2"
      ],
      "metadata": {
        "id": "zk6McZIg6tRc"
      }
    },
    {
      "cell_type": "code",
      "source": [
        "def banyak_kata(kalimat, kata):\n",
        "    kalimat_awal = kalimat.replace(\".\", \"\")\n",
        "    kalimat_baru = kalimat_awal.lower()\n",
        "    kata_pertama = kalimat_baru.split()\n",
        "\n",
        "    banyak = 0\n",
        "    for kata_kedua in kata_pertama:\n",
        "        if kata_kedua == kata:\n",
        "            banyak += 1\n",
        "    return banyak\n",
        "\n",
        "kalimat = input(\"Masukkan kalimat:  \")\n",
        "kata = input(\"Masukkan kata yang ingin dihitung frekuensinya: \")\n",
        "banyak = banyak_kata(kalimat, kata)\n",
        "print(f\"kata {kata} muncul sebanyak {banyak} kali pada kalimat tersebut\")"
      ],
      "metadata": {
        "colab": {
          "base_uri": "https://localhost:8080/"
        },
        "id": "f4QG0sw16vBn",
        "outputId": "cdd86c7e-0ade-47e0-9888-f521ee71e0f2"
      },
      "execution_count": 7,
      "outputs": [
        {
          "output_type": "stream",
          "name": "stdout",
          "text": [
            "Masukkan kalimat:  Saya suka melihat langit. Terutama langit senja pada sore hari.\n",
            "Masukkan kata yang ingin dihitung frekuensinya: langit\n",
            "kata langit muncul sebanyak 2 kali pada kalimat tersebut\n"
          ]
        }
      ]
    },
    {
      "cell_type": "markdown",
      "source": [
        "Soal 3"
      ],
      "metadata": {
        "id": "FyIOW7Af8YTj"
      }
    },
    {
      "cell_type": "code",
      "source": [
        "def hapus_spasi_berlebih():\n",
        "    kata_kedua = kata.split()\n",
        "    kalimat_spasi_normal = \" \".join(kata_kedua)\n",
        "    return kalimat_spasi_normal\n",
        "\n",
        "kata = input(\"Masukkan kalimat: \")\n",
        "kalimat_spasi_normal = hapus_spasi_berlebih()\n",
        "print(f\"Hasilnya adalah: {kalimat_spasi_normal}\")"
      ],
      "metadata": {
        "colab": {
          "base_uri": "https://localhost:8080/"
        },
        "id": "HGWlEiWC8Zby",
        "outputId": "8ce2199c-6a23-44cd-96bb-4843a1cbfcbb"
      },
      "execution_count": 5,
      "outputs": [
        {
          "output_type": "stream",
          "name": "stdout",
          "text": [
            "Masukkan kalimat: Saya     sedang     mengerjakan     tugas     laprak     PraAlpro\n",
            "Hasilnya adalah: Saya sedang mengerjakan tugas laprak PraAlpro\n"
          ]
        }
      ]
    },
    {
      "cell_type": "markdown",
      "source": [
        "Soal 4"
      ],
      "metadata": {
        "id": "lV8iMzmu9OT7"
      }
    },
    {
      "cell_type": "code",
      "source": [
        "def kata_terpendek_dan_terpanjang():\n",
        "    kataku = kalimat.split()\n",
        "    kata_terpendek = kataku[0]\n",
        "    kata_terpanjang = kataku[0]\n",
        "\n",
        "    for kata in kataku:\n",
        "        if len(kata) < len(kata_terpendek):\n",
        "            kata_terpendek = kata\n",
        "        elif len(kata) > len(kata_terpanjang):\n",
        "            kata_terpanjang = kata\n",
        "    return kata_terpendek, kata_terpanjang\n",
        "\n",
        "kalimat = input(\"Masukkan kalimat: \")\n",
        "kata_terpendek, kata_terpanjang = kata_terpendek_dan_terpanjang()\n",
        "print(f\"Kata terpendek adalah {kata_terpendek} dan kata terpanjang adalah {kata_terpanjang}\")"
      ],
      "metadata": {
        "colab": {
          "base_uri": "https://localhost:8080/"
        },
        "id": "MdAlEYiZ9P_e",
        "outputId": "cbf0815b-bd40-49f5-84d1-9ee09a34db86"
      },
      "execution_count": 6,
      "outputs": [
        {
          "output_type": "stream",
          "name": "stdout",
          "text": [
            "Masukkan kalimat: Keluargaku alasanku bertahan\n",
            "Kata terpendek adalah alasanku dan kata terpanjang adalah Keluargaku\n"
          ]
        }
      ]
    }
  ]
}